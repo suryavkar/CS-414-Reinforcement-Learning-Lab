{
 "cells": [
  {
   "cell_type": "code",
   "execution_count": 1,
   "id": "f22f3af9",
   "metadata": {},
   "outputs": [],
   "source": [
    "#Importing Libraries\n",
    "import numpy as np\n",
    "import matplotlib.pyplot as plt\n",
    "\n",
    "from jupyterthemes import jtplot\n",
    "jtplot.style(theme = \"monokai\",context = \"notebook\", ticks = True,grid = False)"
   ]
  },
  {
   "cell_type": "code",
   "execution_count": 2,
   "id": "a0c2d0af",
   "metadata": {},
   "outputs": [],
   "source": [
    "#Declaring the environment for our game\n",
    "class snake_ladder(object):\n",
    "    def __init__(self):\n",
    "        #state space\n",
    "        self.states = list(range(9))\n",
    "        #Transition probability matrix\n",
    "        self.tr_matrix = [[4/6,1/6,1/6,0,0,0,0,0,0],[0,4/6,1/6,1/6,0,0,0,0,0],[0,0,0,0,1,0,0,0,0]\n",
    "                         ,[0,0,0,4/6,1/6,1/6,0,0,0],[0,0,1,0,0,0,0,0,0],[0,0,0,0,0,4/6,1/6,1/6,0]\n",
    "                         ,[0,0,0,0,0,0,4/6,1/6,1/6],[0,0,0,0,0,0,0,5/6,1/6],[0,0,0,0,0,0,0,0,1]]\n",
    "    \n",
    "    #Helper function to check if current state is 2 or 4\n",
    "    def not_absorb(self,state):\n",
    "        if(state == 4 or state == 2):\n",
    "            return True\n",
    "        return False\n",
    "    \n",
    "    #Helper function which tells which state to transition next from the current state\n",
    "    def next_state(self,curr_state):\n",
    "        #For each row of transition probability matrix it is a multinomial distribution\n",
    "        #so we just sample from the distribution using probabilities from the matrix\n",
    "        return(np.random.choice(self.states,p = self.tr_matrix[curr_state]))\n",
    "        \n",
    "    #Helper function to check if current state is the end state i.e 8.\n",
    "    def end(self,curr_state):\n",
    "        if(curr_state == 8):\n",
    "            return True\n",
    "        return False"
   ]
  },
  {
   "cell_type": "code",
   "execution_count": 3,
   "id": "56fb3458",
   "metadata": {},
   "outputs": [],
   "source": [
    "#Declaring class object\n",
    "game = snake_ladder()\n",
    "\n",
    "#number of iterations\n",
    "num_iters = 20000\n",
    "\n",
    "#cnt end is bernoulli random variable\n",
    "cnt_end = 0\n",
    "\n",
    "#to store average of each step\n",
    "result = []\n",
    "\n",
    "for i in range(num_iters):\n",
    "    done = False\n",
    "    curr_state = 0\n",
    "    #continue till we dont reach end state\n",
    "    while(not done):\n",
    "        curr_state = game.next_state(curr_state)\n",
    "        check = game.not_absorb(curr_state)\n",
    "        #if current state 4 or 2 then break as we will be stuck in them\n",
    "        if(check):\n",
    "            break\n",
    "        #if we reach end then done becomes true\n",
    "        if(game.end(curr_state)):\n",
    "            done = True\\\n",
    "    #if we have reached end then output of random variable is 1.\n",
    "    if(done):\n",
    "        #add 1 if we reach end\n",
    "        cnt_end = cnt_end + 1\n",
    "    #append mean for the particular iteration in result list.\n",
    "    result.append(cnt_end/(i+1))\n"
   ]
  },
  {
   "cell_type": "code",
   "execution_count": 4,
   "id": "45efbbe1",
   "metadata": {},
   "outputs": [
    {
     "data": {
      "image/png": "[encoded data removed]",
      "text/plain": [
       "<Figure size 720x720 with 1 Axes>"
      ]
     },
     "metadata": {},
     "output_type": "display_data"
    }
   ],
   "source": [
    "#Plot simulation result\n",
    "plt.figure(figsize=(10,10))\n",
    "plt.plot(result)\n",
    "plt.savefig('result.png')\n",
    "plt.xlabel('Number of iterations');\n",
    "plt.ylabel('Fraction of times end state(8) reached');"
   ]
  },
  {
   "cell_type": "code",
   "execution_count": 1,
   "id": "300671eb",
   "metadata": {},
   "outputs": [
    {
     "data": {
      "text/plain": [
       "[[0.6666666666666666,\n",
       "  0.16666666666666666,\n",
       "  0.16666666666666666,\n",
       "  0,\n",
       "  0,\n",
       "  0,\n",
       "  0,\n",
       "  0,\n",
       "  0],\n",
       " [0,\n",
       "  0.6666666666666666,\n",
       "  0.16666666666666666,\n",
       "  0.16666666666666666,\n",
       "  0,\n",
       "  0,\n",
       "  0,\n",
       "  0,\n",
       "  0],\n",
       " [0, 0, 0, 0, 1, 0, 0, 0, 0],\n",
       " [0,\n",
       "  0,\n",
       "  0,\n",
       "  0.6666666666666666,\n",
       "  0.16666666666666666,\n",
       "  0.16666666666666666,\n",
       "  0,\n",
       "  0,\n",
       "  0],\n",
       " [0, 0, 1, 0, 0, 0, 0, 0, 0],\n",
       " [0,\n",
       "  0,\n",
       "  0,\n",
       "  0,\n",
       "  0,\n",
       "  0.6666666666666666,\n",
       "  0.16666666666666666,\n",
       "  0.16666666666666666,\n",
       "  0],\n",
       " [0,\n",
       "  0,\n",
       "  0,\n",
       "  0,\n",
       "  0,\n",
       "  0,\n",
       "  0.6666666666666666,\n",
       "  0.16666666666666666,\n",
       "  0.16666666666666666],\n",
       " [0, 0, 0, 0, 0, 0, 0, 0.8333333333333334, 0.16666666666666666],\n",
       " [0, 0, 0, 0, 0, 0, 0, 0, 1]]"
      ]
     },
     "execution_count": 1,
     "metadata": {},
     "output_type": "execute_result"
    }
   ],
   "source": [
    "[[4/6,1/6,1/6,0,0,0,0,0,0],[0,4/6,1/6,1/6,0,0,0,0,0],[0,0,0,0,1,0,0,0,0]\n",
    "                         ,[0,0,0,4/6,1/6,1/6,0,0,0],[0,0,1,0,0,0,0,0,0],[0,0,0,0,0,4/6,1/6,1/6,0]\n",
    "                         ,[0,0,0,0,0,0,4/6,1/6,1/6],[0,0,0,0,0,0,0,5/6,1/6],[0,0,0,0,0,0,0,0,1]]"
   ]
  },
  {
   "cell_type": "code",
   "execution_count": null,
   "id": "78098a37",
   "metadata": {},
   "outputs": [],
   "source": []
  }
 ],
 "metadata": {
  "kernelspec": {
   "display_name": "Python 3",
   "language": "python",
   "name": "python3"
  },
  "language_info": {
   "codemirror_mode": {
    "name": "ipython",
    "version": 3
   },
   "file_extension": ".py",
   "mimetype": "text/x-python",
   "name": "python",
   "nbconvert_exporter": "python",
   "pygments_lexer": "ipython3",
   "version": "3.8.8"
  }
 },
 "nbformat": 4,
 "nbformat_minor": 5
}
