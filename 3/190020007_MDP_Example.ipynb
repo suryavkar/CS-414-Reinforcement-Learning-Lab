{
  "nbformat": 4,
  "nbformat_minor": 0,
  "metadata": {
    "colab": {
      "name": "MDP_Example.ipynb",
      "provenance": []
    },
    "kernelspec": {
      "name": "python3",
      "display_name": "Python 3"
    },
    "language_info": {
      "name": "python"
    }
  },
  "cells": [
    {
      "cell_type": "code",
      "execution_count": 37,
      "metadata": {
        "colab": {
          "base_uri": "https://localhost:8080/"
        },
        "id": "rjCIrczfl9gB",
        "outputId": "309b4486-7bc6-4f7b-e464-440386f0b0a3"
      },
      "outputs": [
        {
          "output_type": "stream",
          "name": "stdout",
          "text": [
            "Drive already mounted at /content/gdrive; to attempt to forcibly remount, call drive.mount(\"/content/gdrive\", force_remount=True).\n"
          ]
        }
      ],
      "source": [
        "from google.colab import drive\n",
        "drive.mount('/content/gdrive')"
      ]
    },
    {
      "cell_type": "code",
      "source": [
        "import numpy as np\n",
        "import copy\n",
        "states = np.array([0, 1, 2, 3])\n",
        "actions = np.array([0, 1]) #Fish and don't fish\n",
        "probf = np.array([[0, 1, 0, 0], [0.5, 0.5, 0, 0], [0, 0.75, 0.25, 0], [0, 0, 0.6, 0.4]])\n",
        "probdf = np.array([[0, 1, 0, 0], [0, 0.3, 0.7, 0], [0, 0, 0.25, 0.75], [0, 0, 0.05, 0.95]])\n",
        "rewardf = np.array([-2, 1, 2, 5])\n",
        "rewarddf = np.array([-2, 0, 0, 0])\n",
        "#Rebreed when in state 0 always and get a reward of -200\n",
        "valuesf = np.zeros(4)\n",
        "valuesdf = np.zeros(4)\n",
        "counter = 0\n",
        "count = 0\n",
        "while counter == 0:\n",
        "  count = count + 1\n",
        "  temp = copy.deepcopy(valuesf)\n",
        "  valuesf = rewardf + np.matmul(valuesf, probf.T)\n",
        "  if np.linalg.norm(temp-valuesf)<0.000001:\n",
        "    counter = 1\n",
        "counter1 = 0\n",
        "count1 = 0\n",
        "while counter1 == 0:\n",
        "  count1 = count1 + 1\n",
        "  temp = copy.deepcopy(valuesdf)\n",
        "  valuesdf = rewarddf + np.matmul(valuesdf, probdf.T)\n",
        "  if np.linalg.norm(temp-valuesdf)<0.000001:\n",
        "    counter1 = 1\n",
        "policy = np.zeros(4)\n",
        "v_opt = np.zeros(4)\n",
        "for i in range(4):\n",
        "  if valuesf[i]>=valuesdf[i]:\n",
        "    policy[i] = 0\n",
        "    v_opt[i] = valuesf[i]\n",
        "  else:\n",
        "    policy[i] = 1\n",
        "    v_opt[i] = valuesf[i]\n",
        "print(\"Value function under action fish is \", valuesf)\n",
        "print(\"Value function under action don't fish is \", valuesdf)\n",
        "print(\"Optimal action is \", policy, \", where 0 denotes fish, 1 denotes dont fish\")\n",
        "print(\"No of iterations needed to converge: \", count-1)\n",
        "print(\"Optimal value function is, \", v_opt)"
      ],
      "metadata": {
        "colab": {
          "base_uri": "https://localhost:8080/"
        },
        "id": "mzKU1vFMqoD-",
        "outputId": "ccfcc9a9-0dff-4cfd-dd7a-3be336f07f3b"
      },
      "execution_count": 8,
      "outputs": [
        {
          "output_type": "stream",
          "name": "stdout",
          "text": [
            "Value function under action fish is  [-1.33333349  0.66666675  3.33333325 11.6666667 ]\n",
            "Value function under action don't fish is  [-2.  0.  0.  0.]\n",
            "Optimal action is  [0. 0. 0. 0.] , where 0 denotes fish, 1 denotes dont fish\n",
            "No of iterations needed to converge:  22\n",
            "Optimal value function is,  [-1.33333349  0.66666675  3.33333325 11.6666667 ]\n"
          ]
        }
      ]
    },
    {
      "cell_type": "code",
      "source": [
        "#Take initial policy don't fish for all the states\n",
        "policy = np.ones(4)\n",
        "values_policy = copy.deepcopy(valuesdf)\n",
        "counter2 = 0\n",
        "count2 = 0\n",
        "while counter2 == 0:\n",
        "  count2 = count2 + 1\n",
        "  values_f = rewardf + np.matmul(values_policy, probf.T)\n",
        "  values_df = rewarddf + np.matmul(values_policy, probdf.T)\n",
        "  temp_policy = copy.deepcopy(policy)\n",
        "  for i in range(4):\n",
        "    if values_f[i] >= values_df[i]:\n",
        "      policy[i] = 0\n",
        "    else:\n",
        "      policy[i] = 1\n",
        "  if np.linalg.norm(temp_policy-policy) == 0:\n",
        "    counter2 = 1\n",
        "  else:\n",
        "    counter3 = 0\n",
        "    values_policy = np.zeros(4)\n",
        "    while counter3 == 0:\n",
        "      temp = copy.deepcopy(values_policy)\n",
        "      for i in range(4):\n",
        "        if i==0:\n",
        "          prob = probf[i, :]\n",
        "          values_policy[i] = rewardf[i] + np.dot(temp, prob)\n",
        "        else:\n",
        "          prob = probdf[i, :]\n",
        "          values_policy[i] = rewarddf[i] + np.dot(temp, prob)\n",
        "      if np.linalg.norm(temp - values_policy)<0.000001:\n",
        "        counter3 = 1\n",
        "print(\"The policy is: \", policy, \", where 0 denotes fish, 1 denotes don't fish\")\n",
        "print(\"Iterations needed to converge: \", count2-1)"
      ],
      "metadata": {
        "colab": {
          "base_uri": "https://localhost:8080/"
        },
        "id": "ylS11HDgYsTP",
        "outputId": "58b9afdf-fcc7-4e6b-a216-deedd041868b"
      },
      "execution_count": 11,
      "outputs": [
        {
          "output_type": "stream",
          "name": "stdout",
          "text": [
            "The policy is:  [0. 0. 0. 0.] , where 0 denotes fish, 1 denotes don't fish\n",
            "Iterations needed to converge:  1\n"
          ]
        }
      ]
    }
  ]
}