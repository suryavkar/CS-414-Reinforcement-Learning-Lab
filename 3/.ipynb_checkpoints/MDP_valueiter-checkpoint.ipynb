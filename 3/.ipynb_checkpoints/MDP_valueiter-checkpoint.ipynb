{
 "cells": [
  {
   "cell_type": "code",
   "execution_count": 1,
   "id": "3d0184ae",
   "metadata": {},
   "outputs": [],
   "source": [
    "#Import Libraries\n",
    "import numpy as np"
   ]
  },
  {
   "cell_type": "code",
   "execution_count": 2,
   "id": "8cb320e2",
   "metadata": {},
   "outputs": [],
   "source": [
    "#Defining MDP\n",
    "class Problem():\n",
    "    def __init__(self):\n",
    "        #State Space\n",
    "        self.states = {0:\"low\", 1:\"average\", 2:\"high\"};\n",
    "        #State Value function\n",
    "        self.state_vals = np.zeros(len(self.states))\n",
    "        #Action Space\n",
    "        self.actions = {0:\"keep\", 1:\"replace\"};\n",
    "        #Probability matrices\n",
    "        self.p = {self.actions[0]:np.array([[1,0,0],[0.8,0.2,0],[0.6,0.4,0]]), \\\n",
    "                  self.actions[1]:np.array([[0.6,0.4,0],[0,0.4,0.6],[0,0,1]])}\n",
    "        self.policy = {}\n",
    "        #Discount factor\n",
    "        self.gamma = 0.99\n",
    "    #Reward for different states\n",
    "    def get_reward(self,state,action):\n",
    "        if action == self.actions[0]:\n",
    "            return 0\n",
    "        if action == self.actions[1]:\n",
    "            if state == self.states[2]:\n",
    "                return -1\n",
    "            else:\n",
    "                return 1\n",
    "        if action == self.actions[2]:\n",
    "            return 0\n",
    "    #Value Iteration\n",
    "    def value_iter(self,state):\n",
    "        value = np.zeros(len(self.states))\n",
    "        #Over all actions\n",
    "        for i in range(len(self.actions)):\n",
    "            for j in range(len(self.states)):\n",
    "                r = self.get_reward(self.states[j],self.actions[i])\n",
    "                value[i] += self.p[self.actions[i]][state,j]*(r + \\\n",
    "                                                              self.gamma*self.state_vals[j])\n",
    "        #Select the action which gives maximum state_value_function\n",
    "        self.state_vals[state] = np.max(value)\n",
    "        self.policy[self.states[state]] = self.actions[np.argmax(value)]"
   ]
  },
  {
   "cell_type": "code",
   "execution_count": 3,
   "id": "13a8b43e",
   "metadata": {},
   "outputs": [],
   "source": [
    "problem = Problem()\n",
    "#To check number of iterations\n",
    "iters = 1\n",
    "#Convergence factor\n",
    "eps = 0.01\n",
    "delta = 1\n",
    "while(delta>eps):\n",
    "    delta = 0\n",
    "    iters += 1\n",
    "    for j in range(len(problem.states)):\n",
    "            oldvalue = problem.state_vals[j]\n",
    "            problem.value_iter(j)\n",
    "            diff = abs(oldvalue-problem.state_vals[j])\n",
    "            delta = max(delta,diff)\n",
    "            \n"
   ]
  },
  {
   "cell_type": "code",
   "execution_count": 4,
   "id": "847f9d25",
   "metadata": {},
   "outputs": [
    {
     "name": "stdout",
     "output_type": "stream",
     "text": [
      "Optimal Policy: {'high': 'walk', 'low': 'recharge', 'out_of_charge': 'recharge'}\n",
      "Final state value function: [66.22653404 65.39834343 65.23630522]\n",
      "Iterations: 332\n"
     ]
    }
   ],
   "source": [
    "print(\"Optimal Policy:\",problem.policy)\n",
    "print(\"Final state value function:\",problem.state_vals)\n",
    "print(\"Iterations:\",iters)"
   ]
  },
  {
   "cell_type": "code",
   "execution_count": null,
   "id": "1fb97c2e",
   "metadata": {},
   "outputs": [],
   "source": []
  },
  {
   "cell_type": "code",
   "execution_count": null,
   "id": "10c08825",
   "metadata": {},
   "outputs": [],
   "source": []
  }
 ],
 "metadata": {
  "kernelspec": {
   "display_name": "Python 3",
   "language": "python",
   "name": "python3"
  },
  "language_info": {
   "codemirror_mode": {
    "name": "ipython",
    "version": 3
   },
   "file_extension": ".py",
   "mimetype": "text/x-python",
   "name": "python",
   "nbconvert_exporter": "python",
   "pygments_lexer": "ipython3",
   "version": "3.8.8"
  }
 },
 "nbformat": 4,
 "nbformat_minor": 5
}
