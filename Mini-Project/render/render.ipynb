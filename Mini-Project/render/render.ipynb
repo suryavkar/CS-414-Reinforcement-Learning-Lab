{
 "cells": [
  {
   "cell_type": "code",
   "execution_count": 1,
   "id": "f92cf8a2",
   "metadata": {},
   "outputs": [],
   "source": [
    "import gym\n",
    "import time\n",
    "import matplotlib.pyplot as plt\n",
    "from stable_baselines3.common.env_util import make_atari_env\n",
    "from stable_baselines3.common.vec_env import VecFrameStack\n",
    "from stable_baselines3 import A2C\n",
    "from stable_baselines3.common.evaluation import evaluate_policy"
   ]
  },
  {
   "cell_type": "code",
   "execution_count": 2,
   "id": "124cc62f",
   "metadata": {},
   "outputs": [
    {
     "name": "stdout",
     "output_type": "stream",
     "text": [
      "Wrapping the env in a VecTransposeImage.\n"
     ]
    },
    {
     "name": "stderr",
     "output_type": "stream",
     "text": [
      "C:\\Users\\R3M0\\anaconda3\\envs\\tr39gpu\\lib\\site-packages\\stable_baselines3\\common\\save_util.py:166: UserWarning: Could not deserialize object lr_schedule. Consider using `custom_objects` argument to replace this object.\n",
      "  warnings.warn(\n"
     ]
    }
   ],
   "source": [
    "# model = DQN.load(\"dqn_lunar\", env=env, print_system_info=True)\n",
    "env = make_atari_env('PongNoFrameskip-v4', n_envs=1, seed=3504351757)\n",
    "env = VecFrameStack(env, n_stack=4)\n",
    "# env = gym.make('CartPole-v1')\n",
    "model = A2C.load(\"PongNoFrameskip-v4\",env=env)"
   ]
  },
  {
   "cell_type": "code",
   "execution_count": 3,
   "id": "3bb40fea",
   "metadata": {},
   "outputs": [],
   "source": [
    "# for _ in range(1):\n",
    "#     done = False\n",
    "#     obs = env.reset()\n",
    "#     while not done:\n",
    "#         env.render()\n",
    "#         action, _states = model.predict(obs, deterministic=True)\n",
    "#         time.sleep(0.1)\n",
    "#         obs, reward, done, info = env.step(action)\n",
    "#     if done:\n",
    "#         obs = env.reset()\n",
    "# env.close()"
   ]
  },
  {
   "cell_type": "code",
   "execution_count": 4,
   "id": "7da7d90c",
   "metadata": {},
   "outputs": [],
   "source": [
    "def save_frames_as_gif(frames, path='./', filename='gym_animation.gif'):\n",
    "\n",
    "    #Mess with this to change frame size\n",
    "    plt.figure(figsize=(frames[0].shape[1] / 72.0, frames[0].shape[0] / 72.0), dpi=72)\n",
    "\n",
    "    patch = plt.imshow(frames[0])\n",
    "    plt.axis('off')\n",
    "\n",
    "    def animate(i):\n",
    "        patch.set_data(frames[i])\n",
    "\n",
    "    anim = animation.FuncAnimation(plt.gcf(), animate, frames = len(frames), interval=50)\n",
    "    anim.save(filename, writer='imagemagick', fps=60)"
   ]
  },
  {
   "cell_type": "code",
   "execution_count": null,
   "id": "b4ea39dd",
   "metadata": {},
   "outputs": [],
   "source": [
    "observation = env.reset()\n",
    "frames = []\n",
    "for _ in range(1):\n",
    "    done = False\n",
    "    obs = env.reset()\n",
    "    while not done:\n",
    "        # env.render()\n",
    "        frames.append(env.render(mode=\"rgb_array\"))\n",
    "        action, _states = model.predict(obs, deterministic=True)\n",
    "        time.sleep(0.1)\n",
    "        obs, reward, done, info = env.step(action)\n",
    "    if done:\n",
    "        obs = env.reset()\n",
    "env.close()\n",
    "save_frames_as_gif(frames)"
   ]
  },
  {
   "cell_type": "code",
   "execution_count": null,
   "id": "aecff033",
   "metadata": {},
   "outputs": [],
   "source": []
  }
 ],
 "metadata": {
  "kernelspec": {
   "display_name": "Python 3 (ipykernel)",
   "language": "python",
   "name": "python3"
  },
  "language_info": {
   "codemirror_mode": {
    "name": "ipython",
    "version": 3
   },
   "file_extension": ".py",
   "mimetype": "text/x-python",
   "name": "python",
   "nbconvert_exporter": "python",
   "pygments_lexer": "ipython3",
   "version": "3.9.7"
  }
 },
 "nbformat": 4,
 "nbformat_minor": 5
}
